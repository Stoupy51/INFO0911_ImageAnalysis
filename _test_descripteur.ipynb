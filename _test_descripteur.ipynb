{
 "cells": [
  {
   "cell_type": "code",
   "execution_count": 1,
   "metadata": {},
   "outputs": [],
   "source": [
    "# Imports\n",
    "from src.descriptors import *"
   ]
  },
  {
   "cell_type": "code",
   "execution_count": 2,
   "metadata": {},
   "outputs": [
    {
     "name": "stdout",
     "output_type": "stream",
     "text": [
      "\u001b[92m[INFO  15:23:33] Length: 256, 5 first values: [43 45 43 56 36]...\u001b[0m\n",
      "\u001b[92m[INFO  15:23:33] Length: 768, 5 first values: [45 58 31 35 39]...\u001b[0m\n"
     ]
    }
   ],
   "source": [
    "## Histogram\n",
    "# Single channel\n",
    "image: np.ndarray = np.random.randint(0, 256, (100, 100))\n",
    "histogram = histogram_single_channel(image)\n",
    "info(f\"Length: {len(histogram)}, 5 first values: {histogram[:5]}...\")\n",
    "\n",
    "# Multi channel\n",
    "image: np.ndarray = np.random.randint(0, 256, (3, 100, 100))\n",
    "histogram = histogram_multi_channels(image)\n",
    "info(f\"Length: {len(histogram)}, 5 first values: {histogram[:5]}...\")"
   ]
  },
  {
   "cell_type": "code",
   "execution_count": null,
   "metadata": {},
   "outputs": [],
   "source": []
  }
 ],
 "metadata": {
  "kernelspec": {
   "display_name": "Python 3",
   "language": "python",
   "name": "python3"
  },
  "language_info": {
   "codemirror_mode": {
    "name": "ipython",
    "version": 3
   },
   "file_extension": ".py",
   "mimetype": "text/x-python",
   "name": "python",
   "nbconvert_exporter": "python",
   "pygments_lexer": "ipython3",
   "version": "3.12.2"
  }
 },
 "nbformat": 4,
 "nbformat_minor": 2
}
