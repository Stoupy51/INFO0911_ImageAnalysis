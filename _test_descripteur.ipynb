{
 "cells": [
  {
   "cell_type": "code",
   "execution_count": 1,
   "metadata": {},
   "outputs": [],
   "source": [
    "# Imports\n",
    "from src.descriptors import *\n",
    "from src.print import *"
   ]
  },
  {
   "cell_type": "code",
   "execution_count": 2,
   "metadata": {},
   "outputs": [
    {
     "name": "stdout",
     "output_type": "stream",
     "text": [
      "\u001b[92m[INFO  17:16:12] Length: 256, 5 first values: [43 33 39 46 33]...\u001b[0m\n",
      "\u001b[92m[INFO  17:16:12] Length: 768, 5 first values: [41 32 38 45 34]...\u001b[0m\n"
     ]
    }
   ],
   "source": [
    "## Histogram\n",
    "# Single channel\n",
    "image: np.ndarray = np.random.randint(0, 256, (100, 100))\n",
    "histogram = histogram_single_channel(image)\n",
    "info(f\"Length: {len(histogram)}, 5 first values: {histogram[:5]}...\")\n",
    "\n",
    "# Multi channel\n",
    "image: np.ndarray = np.random.randint(0, 256, (3, 100, 100))\n",
    "histogram = histogram_multi_channels(image)\n",
    "info(f\"Length: {len(histogram)}, 5 first values: {histogram[:5]}...\")"
   ]
  },
  {
   "cell_type": "code",
   "execution_count": 3,
   "metadata": {},
   "outputs": [
    {
     "name": "stdout",
     "output_type": "stream",
     "text": [
      "\u001b[92m[INFO  17:16:12] Mean: 128.5752\u001b[0m\n",
      "\u001b[92m[INFO  17:16:12] Median: 128.0\u001b[0m\n",
      "\u001b[92m[INFO  17:16:12] Standard deviation: 74.16095701216375\u001b[0m\n",
      "\u001b[92m[INFO  17:16:12] Quantiles: Q1=64.0, Q3=194.0\u001b[0m\n"
     ]
    }
   ],
   "source": [
    "## Statistics\n",
    "image: np.ndarray = np.random.randint(0, 256, (100, 100))\n",
    "info(f\"Mean: {mean(image)}\")\n",
    "info(f\"Median: {median(image)}\")\n",
    "info(f\"Standard deviation: {std(image)}\")\n",
    "info(f\"Quantiles: Q1={Q1(image)}, Q3={Q3(image)}\")"
   ]
  },
  {
   "cell_type": "code",
   "execution_count": null,
   "metadata": {},
   "outputs": [],
   "source": []
  }
 ],
 "metadata": {
  "kernelspec": {
   "display_name": "Python 3",
   "language": "python",
   "name": "python3"
  },
  "language_info": {
   "codemirror_mode": {
    "name": "ipython",
    "version": 3
   },
   "file_extension": ".py",
   "mimetype": "text/x-python",
   "name": "python",
   "nbconvert_exporter": "python",
   "pygments_lexer": "ipython3",
   "version": "3.10.1"
  }
 },
 "nbformat": 4,
 "nbformat_minor": 2
}
