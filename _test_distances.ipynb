{
 "cells": [
  {
   "cell_type": "code",
   "execution_count": 67,
   "metadata": {},
   "outputs": [],
   "source": [
    "# Imports\n",
    "from src.vector_utils import *\n",
    "from src.distances import *\n",
    "from src.print import *\n",
    "from typing import Callable\n",
    "import pandas as pd\n",
    "import time"
   ]
  },
  {
   "cell_type": "code",
   "execution_count": 68,
   "metadata": {},
   "outputs": [],
   "source": [
    "# Dictionnary test and inputs\n",
    "tests: dict = {\n",
    "\t\"Manhattan\":\t\t\t\t{\"function\":distance_manhattan},\n",
    "\t\"Euclidean\":\t\t\t\t{\"function\":distance_euclidean},\n",
    "\t\"Tchebyshev\":\t\t\t\t{\"function\":distance_tchebyshev},\n",
    "\t\"Minkowski\":\t\t\t\t{\"function\":distance_minkowski},\n",
    "\t\"Histogram Intersection\":\t{\"function\":distance_histogram_intersection},\n",
    "\t\"Swapped Histogram\":\t\t{\"function\":distance_histogram_intersection},\n",
    "\t\"Khi2\":\t\t\t\t\t\t{\"function\":distance_khi2},\n",
    "}"
   ]
  },
  {
   "cell_type": "code",
   "execution_count": 69,
   "metadata": {},
   "outputs": [],
   "source": [
    "## Prepare inputs\n",
    "# Two known vectors for other tests\n",
    "v1: np.ndarray = np.array([2.7, 4.3,  0.2,   9,   -4])\n",
    "v2: np.ndarray = np.array([7.6, 5.8, -3.2, 9.7, 12.3])\n",
    "\n",
    "# Generate two random vectors\n",
    "v3: np.ndarray = np.round(random_vector(10), 4)\n",
    "v4: np.ndarray = np.round(random_vector(10), 4)\n",
    "\n",
    "# Similar vectors\n",
    "v5: np.ndarray = np.array([1, 2, 3, 4, 5])\n",
    "v6: np.ndarray = np.array([1, 2, 3, 4, 5])\n",
    "\n",
    "# Prepare input tuples\n",
    "inputs: list[tuple] = [\n",
    "\t(\"v1/v2 (vecteurs du cours)\", v1, v2),\n",
    "\t(\"v3/v4 (vecteurs aléatoires)\", v3, v4),\n",
    "\t(\"v5/v6 (vecteurs similaires)\", v5, v6),\n",
    "]"
   ]
  },
  {
   "cell_type": "code",
   "execution_count": 70,
   "metadata": {},
   "outputs": [],
   "source": [
    "# Test all the inputs\n",
    "for input_type, x, y in inputs:\n",
    "\tfor method, test in tests.items():\n",
    "\t\tf: Callable = test[\"function\"]\n",
    "\t\t\n",
    "\t\t# Measure the time\n",
    "\t\tstart: int = time.perf_counter_ns()\n",
    "\t\tdistance: float = f(x,y) if not \"Swap\" in method else f(y,x)\n",
    "\t\tend: int = time.perf_counter_ns()\n",
    "\t\tduration: int = end - start\n",
    "\n",
    "\t\t# Store the result\n",
    "\t\ttest[input_type] = {\"distance\":distance, \"duration\":duration}"
   ]
  },
  {
   "cell_type": "code",
   "execution_count": 71,
   "metadata": {},
   "outputs": [],
   "source": [
    "# Util function to print the results\n",
    "def get_dataframe(tests: dict, input_type: str) -> pd.DataFrame:\n",
    "\t\"\"\" Get the dataframe for the given input type\\n\n",
    "\tArgs:\n",
    "\t\ttests\t\t(dict):\tDictionnary containing every tests\n",
    "\t\tinput_type\t(str):\tInput type (text for which inputs are used)\n",
    "\tReturns:\n",
    "\t\t(pd.DataFrame):\tDataframe containing the results\n",
    "\t\"\"\"\n",
    "\t# Prepare the dataframe\n",
    "\tdf: pd.DataFrame = pd.DataFrame()\n",
    "\tfor name in tests.keys():\n",
    "\t\tdf[name] = 0\n",
    "\t\n",
    "\t# Add the distances and duration line\n",
    "\tfor name in tests.keys():\n",
    "\t\tdf.loc[\"Distance\", name] = round(tests[name][input_type][\"distance\"], 4)\n",
    "\t\tdf.loc[\"Time (ns)\", name] = round(tests[name][input_type][\"duration\"])\n",
    "\n",
    "\t# Return the dataframe\n",
    "\treturn df"
   ]
  },
  {
   "cell_type": "code",
   "execution_count": 72,
   "metadata": {},
   "outputs": [
    {
     "name": "stdout",
     "output_type": "stream",
     "text": [
      "\u001b[92m[INFO  13:53:21] v1/v2 (vecteurs du cours)\n",
      " x = [ 2.7  4.3  0.2  9.  -4. ]\n",
      " y = [ 7.6  5.8 -3.2  9.7 12.3]\u001b[0m\n"
     ]
    },
    {
     "data": {
      "text/html": [
       "<div>\n",
       "<style scoped>\n",
       "    .dataframe tbody tr th:only-of-type {\n",
       "        vertical-align: middle;\n",
       "    }\n",
       "\n",
       "    .dataframe tbody tr th {\n",
       "        vertical-align: top;\n",
       "    }\n",
       "\n",
       "    .dataframe thead th {\n",
       "        text-align: right;\n",
       "    }\n",
       "</style>\n",
       "<table border=\"1\" class=\"dataframe\">\n",
       "  <thead>\n",
       "    <tr style=\"text-align: right;\">\n",
       "      <th></th>\n",
       "      <th>Manhattan</th>\n",
       "      <th>Euclidean</th>\n",
       "      <th>Tchebyshev</th>\n",
       "      <th>Minkowski</th>\n",
       "      <th>Histogram Intersection</th>\n",
       "      <th>Swapped Histogram</th>\n",
       "      <th>Khi2</th>\n",
       "    </tr>\n",
       "  </thead>\n",
       "  <tbody>\n",
       "    <tr>\n",
       "      <th>Distance</th>\n",
       "      <td>26.8</td>\n",
       "      <td>17.4356</td>\n",
       "      <td>16.3</td>\n",
       "      <td>19.3847</td>\n",
       "      <td>0.2733</td>\n",
       "      <td>0.7213</td>\n",
       "      <td>5.3909</td>\n",
       "    </tr>\n",
       "    <tr>\n",
       "      <th>Time (ns)</th>\n",
       "      <td>175100.0</td>\n",
       "      <td>69000.0000</td>\n",
       "      <td>44900.0</td>\n",
       "      <td>73300.0000</td>\n",
       "      <td>59100.0000</td>\n",
       "      <td>48200.0000</td>\n",
       "      <td>97400.0000</td>\n",
       "    </tr>\n",
       "  </tbody>\n",
       "</table>\n",
       "</div>"
      ],
      "text/plain": [
       "           Manhattan   Euclidean  Tchebyshev   Minkowski  \\\n",
       "Distance        26.8     17.4356        16.3     19.3847   \n",
       "Time (ns)   175100.0  69000.0000     44900.0  73300.0000   \n",
       "\n",
       "           Histogram Intersection  Swapped Histogram        Khi2  \n",
       "Distance                   0.2733             0.7213      5.3909  \n",
       "Time (ns)              59100.0000         48200.0000  97400.0000  "
      ]
     },
     "execution_count": 72,
     "metadata": {},
     "output_type": "execute_result"
    }
   ],
   "source": [
    "# Show first inputs (made in class)\n",
    "input_type: str = inputs[0][0]\n",
    "x = inputs[0][1]\n",
    "y = inputs[0][2]\n",
    "info(f\"{input_type}\\n x = {x}\\n y = {y}\")\n",
    "get_dataframe(tests, input_type)"
   ]
  },
  {
   "cell_type": "code",
   "execution_count": 73,
   "metadata": {},
   "outputs": [
    {
     "name": "stdout",
     "output_type": "stream",
     "text": [
      "\u001b[92m[INFO  13:53:22] v3/v4 (vecteurs aléatoires)\n",
      " x = [0.794  0.9838 0.7    0.4261 0.1267 0.864  0.6406 0.5133 0.508  0.6377]\n",
      " y = [0.0962 0.0218 0.6637 0.7161 0.8883 0.7136 0.1804 0.7669 0.8094 0.9936]\u001b[0m\n"
     ]
    },
    {
     "data": {
      "text/html": [
       "<div>\n",
       "<style scoped>\n",
       "    .dataframe tbody tr th:only-of-type {\n",
       "        vertical-align: middle;\n",
       "    }\n",
       "\n",
       "    .dataframe tbody tr th {\n",
       "        vertical-align: top;\n",
       "    }\n",
       "\n",
       "    .dataframe thead th {\n",
       "        text-align: right;\n",
       "    }\n",
       "</style>\n",
       "<table border=\"1\" class=\"dataframe\">\n",
       "  <thead>\n",
       "    <tr style=\"text-align: right;\">\n",
       "      <th></th>\n",
       "      <th>Manhattan</th>\n",
       "      <th>Euclidean</th>\n",
       "      <th>Tchebyshev</th>\n",
       "      <th>Minkowski</th>\n",
       "      <th>Histogram Intersection</th>\n",
       "      <th>Swapped Histogram</th>\n",
       "      <th>Khi2</th>\n",
       "    </tr>\n",
       "  </thead>\n",
       "  <tbody>\n",
       "    <tr>\n",
       "      <th>Distance</th>\n",
       "      <td>4.2692</td>\n",
       "      <td>1.6106</td>\n",
       "      <td>0.962</td>\n",
       "      <td>2.1852</td>\n",
       "      <td>0.6645</td>\n",
       "      <td>0.6276</td>\n",
       "      <td>2.6203</td>\n",
       "    </tr>\n",
       "    <tr>\n",
       "      <th>Time (ns)</th>\n",
       "      <td>37200.0000</td>\n",
       "      <td>40800.0000</td>\n",
       "      <td>35300.000</td>\n",
       "      <td>62600.0000</td>\n",
       "      <td>53000.0000</td>\n",
       "      <td>48200.0000</td>\n",
       "      <td>85700.0000</td>\n",
       "    </tr>\n",
       "  </tbody>\n",
       "</table>\n",
       "</div>"
      ],
      "text/plain": [
       "            Manhattan   Euclidean  Tchebyshev   Minkowski  \\\n",
       "Distance       4.2692      1.6106       0.962      2.1852   \n",
       "Time (ns)  37200.0000  40800.0000   35300.000  62600.0000   \n",
       "\n",
       "           Histogram Intersection  Swapped Histogram        Khi2  \n",
       "Distance                   0.6645             0.6276      2.6203  \n",
       "Time (ns)              53000.0000         48200.0000  85700.0000  "
      ]
     },
     "execution_count": 73,
     "metadata": {},
     "output_type": "execute_result"
    }
   ],
   "source": [
    "# Show second inputs (random vectors)\n",
    "input_type: str = inputs[1][0]\n",
    "x = inputs[1][1]\n",
    "y = inputs[1][2]\n",
    "info(f\"{input_type}\\n x = {x}\\n y = {y}\")\n",
    "get_dataframe(tests, input_type)"
   ]
  },
  {
   "cell_type": "code",
   "execution_count": 74,
   "metadata": {},
   "outputs": [
    {
     "name": "stdout",
     "output_type": "stream",
     "text": [
      "\u001b[92m[INFO  13:53:24] v5/v6 (vecteurs similaires)\n",
      " x = [1 2 3 4 5]\n",
      " y = [1 2 3 4 5]\u001b[0m\n"
     ]
    },
    {
     "data": {
      "text/html": [
       "<div>\n",
       "<style scoped>\n",
       "    .dataframe tbody tr th:only-of-type {\n",
       "        vertical-align: middle;\n",
       "    }\n",
       "\n",
       "    .dataframe tbody tr th {\n",
       "        vertical-align: top;\n",
       "    }\n",
       "\n",
       "    .dataframe thead th {\n",
       "        text-align: right;\n",
       "    }\n",
       "</style>\n",
       "<table border=\"1\" class=\"dataframe\">\n",
       "  <thead>\n",
       "    <tr style=\"text-align: right;\">\n",
       "      <th></th>\n",
       "      <th>Manhattan</th>\n",
       "      <th>Euclidean</th>\n",
       "      <th>Tchebyshev</th>\n",
       "      <th>Minkowski</th>\n",
       "      <th>Histogram Intersection</th>\n",
       "      <th>Swapped Histogram</th>\n",
       "      <th>Khi2</th>\n",
       "    </tr>\n",
       "  </thead>\n",
       "  <tbody>\n",
       "    <tr>\n",
       "      <th>Distance</th>\n",
       "      <td>0.0</td>\n",
       "      <td>0.0</td>\n",
       "      <td>0.0</td>\n",
       "      <td>0.0</td>\n",
       "      <td>1.0</td>\n",
       "      <td>1.0</td>\n",
       "      <td>0.0</td>\n",
       "    </tr>\n",
       "    <tr>\n",
       "      <th>Time (ns)</th>\n",
       "      <td>60600.0</td>\n",
       "      <td>47800.0</td>\n",
       "      <td>36200.0</td>\n",
       "      <td>56000.0</td>\n",
       "      <td>49000.0</td>\n",
       "      <td>46500.0</td>\n",
       "      <td>75600.0</td>\n",
       "    </tr>\n",
       "  </tbody>\n",
       "</table>\n",
       "</div>"
      ],
      "text/plain": [
       "           Manhattan  Euclidean  Tchebyshev  Minkowski  \\\n",
       "Distance         0.0        0.0         0.0        0.0   \n",
       "Time (ns)    60600.0    47800.0     36200.0    56000.0   \n",
       "\n",
       "           Histogram Intersection  Swapped Histogram     Khi2  \n",
       "Distance                      1.0                1.0      0.0  \n",
       "Time (ns)                 49000.0            46500.0  75600.0  "
      ]
     },
     "execution_count": 74,
     "metadata": {},
     "output_type": "execute_result"
    }
   ],
   "source": [
    "# Show third inputs (similar vectors)\n",
    "input_type: str = inputs[2][0]\n",
    "x = inputs[2][1]\n",
    "y = inputs[2][2]\n",
    "info(f\"{input_type}\\n x = {x}\\n y = {y}\")\n",
    "get_dataframe(tests, input_type)"
   ]
  },
  {
   "cell_type": "code",
   "execution_count": 79,
   "metadata": {},
   "outputs": [
    {
     "name": "stdout",
     "output_type": "stream",
     "text": [
      "\u001b[92m[INFO  14:00:29] Total time for each method\u001b[0m\n"
     ]
    },
    {
     "data": {
      "text/html": [
       "<div>\n",
       "<style scoped>\n",
       "    .dataframe tbody tr th:only-of-type {\n",
       "        vertical-align: middle;\n",
       "    }\n",
       "\n",
       "    .dataframe tbody tr th {\n",
       "        vertical-align: top;\n",
       "    }\n",
       "\n",
       "    .dataframe thead th {\n",
       "        text-align: right;\n",
       "    }\n",
       "</style>\n",
       "<table border=\"1\" class=\"dataframe\">\n",
       "  <thead>\n",
       "    <tr style=\"text-align: right;\">\n",
       "      <th></th>\n",
       "      <th>Total Time (ns)</th>\n",
       "    </tr>\n",
       "  </thead>\n",
       "  <tbody>\n",
       "    <tr>\n",
       "      <th>Tchebyshev</th>\n",
       "      <td>116400</td>\n",
       "    </tr>\n",
       "    <tr>\n",
       "      <th>Swapped Histogram</th>\n",
       "      <td>142900</td>\n",
       "    </tr>\n",
       "    <tr>\n",
       "      <th>Euclidean</th>\n",
       "      <td>157600</td>\n",
       "    </tr>\n",
       "    <tr>\n",
       "      <th>Histogram Intersection</th>\n",
       "      <td>161100</td>\n",
       "    </tr>\n",
       "    <tr>\n",
       "      <th>Minkowski</th>\n",
       "      <td>191900</td>\n",
       "    </tr>\n",
       "    <tr>\n",
       "      <th>Khi2</th>\n",
       "      <td>258700</td>\n",
       "    </tr>\n",
       "    <tr>\n",
       "      <th>Manhattan</th>\n",
       "      <td>272900</td>\n",
       "    </tr>\n",
       "  </tbody>\n",
       "</table>\n",
       "</div>"
      ],
      "text/plain": [
       "                        Total Time (ns)\n",
       "Tchebyshev                       116400\n",
       "Swapped Histogram                142900\n",
       "Euclidean                        157600\n",
       "Histogram Intersection           161100\n",
       "Minkowski                        191900\n",
       "Khi2                             258700\n",
       "Manhattan                        272900"
      ]
     },
     "execution_count": 79,
     "metadata": {},
     "output_type": "execute_result"
    }
   ],
   "source": [
    "# Sort algorithms in terms of speed\n",
    "df = pd.DataFrame()\n",
    "time_str: str = \"Total Time (ns)\"\n",
    "df[time_str] = 0\n",
    "for method in tests.keys():\n",
    "\tdf.loc[method, time_str] = sum(tests[method][input_type[0]][\"duration\"] for input_type in inputs)\n",
    "df = df.sort_values(by=time_str)\n",
    "df[time_str] = df[time_str].astype(int)\n",
    "info(\"Total time for each method\")\n",
    "df"
   ]
  },
  {
   "cell_type": "code",
   "execution_count": null,
   "metadata": {},
   "outputs": [],
   "source": []
  }
 ],
 "metadata": {
  "kernelspec": {
   "display_name": "Python 3",
   "language": "python",
   "name": "python3"
  },
  "language_info": {
   "codemirror_mode": {
    "name": "ipython",
    "version": 3
   },
   "file_extension": ".py",
   "mimetype": "text/x-python",
   "name": "python",
   "nbconvert_exporter": "python",
   "pygments_lexer": "ipython3",
   "version": "3.12.2"
  }
 },
 "nbformat": 4,
 "nbformat_minor": 2
}
