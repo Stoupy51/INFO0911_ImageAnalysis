{
 "cells": [
  {
   "cell_type": "code",
   "execution_count": 5,
   "metadata": {},
   "outputs": [],
   "source": [
    "# Imports\n",
    "from src.color_space.all import *\n",
    "from matplotlib import pyplot as plt\n",
    "size: int = 2"
   ]
  },
  {
   "cell_type": "code",
   "execution_count": 3,
   "metadata": {},
   "outputs": [],
   "source": [
    "# Ask user for image size to generate\n",
    "size: int = int(input(\"Enter the size of the image to generate: \"))"
   ]
  },
  {
   "cell_type": "code",
   "execution_count": 6,
   "metadata": {},
   "outputs": [
    {
     "name": "stdout",
     "output_type": "stream",
     "text": [
      "[[[4 0 3]\n",
      "  [3 3 1]\n",
      "  [3 2 4]]\n",
      "\n",
      " [[0 0 4]\n",
      "  [2 1 0]\n",
      "  [1 1 0]]\n",
      "\n",
      " [[1 4 3]\n",
      "  [0 3 0]\n",
      "  [2 3 0]]]\n",
      "[[[4 0 1]\n",
      "  [0 0 4]\n",
      "  [3 4 3]]\n",
      "\n",
      " [[3 2 0]\n",
      "  [3 1 3]\n",
      "  [1 0 0]]\n",
      "\n",
      " [[3 1 2]\n",
      "  [2 1 3]\n",
      "  [4 0 0]]]\n"
     ]
    }
   ],
   "source": [
    "# Generate a random image and plot it\n",
    "sliced: np.ndarray = random_image(size, seed = 0, maxi = 5)\n",
    "r_image: np.ndarray = sliced_rgb_to_img(sliced)\n",
    "print(sliced)\n",
    "print(r_image)\n",
    "#plt.imshow(r_image)"
   ]
  },
  {
   "cell_type": "code",
   "execution_count": 7,
   "metadata": {},
   "outputs": [
    {
     "name": "stdout",
     "output_type": "stream",
     "text": [
      "[[1.66666667 1.33333333 3.33333333]\n",
      " [1.66666667 2.33333333 0.33333333]\n",
      " [2.         2.         1.33333333]]\n",
      "[[0.9221 0.2884 3.7154]\n",
      " [2.0683 1.5692 0.2125]\n",
      " [1.4971 1.3567 0.85  ]]\n",
      "[[1.31  0.456 3.587]\n",
      " [2.071 1.826 0.299]\n",
      " [1.712 1.527 1.196]]\n"
     ]
    }
   ],
   "source": [
    "# Niveaux de gris\n",
    "converters = [rgb_to_grayscale_average, rgb_to_grayscale_norm709, rgb_to_grayscale_norm601]\n",
    "for f in converters:\n",
    "\timg = f(sliced)\n",
    "\t#plt.figure()\n",
    "\tprint(img)\n",
    "\t#plt.imshow(sliced_rgb_to_img(img), cmap = 'gray')\n",
    "\t#plt.title(f.__name__)"
   ]
  },
  {
   "cell_type": "code",
   "execution_count": 8,
   "metadata": {},
   "outputs": [
    {
     "name": "stdout",
     "output_type": "stream",
     "text": [
      "[[ 1.407  0.844  3.914]\n",
      " [ 1.213 -0.082  0.587]\n",
      " [ 0.644  0.842  0.456]]\n",
      "[[ 1.811  2.46   2.154]\n",
      " [ 1.183 -0.073  0.587]\n",
      " [ 0.579  0.365  0.456]]\n",
      "[[ 1.08333333 -1.          2.25      ]\n",
      " [ 1.          2.5         0.33333333]\n",
      " [ 0.         -0.58333333  1.33333333]]\n",
      "[[[0.8        0.         0.3       ]\n",
      "  [0.6        0.42857143 1.        ]\n",
      "  [0.5        0.33333333 1.        ]]\n",
      "\n",
      " [[0.         0.         0.4       ]\n",
      "  [0.4        0.14285714 0.        ]\n",
      "  [0.16666667 0.16666667 0.        ]]\n",
      "\n",
      " [[0.2        1.         0.3       ]\n",
      "  [0.         0.42857143 0.        ]\n",
      "  [0.33333333 0.5        0.        ]]]\n"
     ]
    }
   ],
   "source": [
    "## Linears\n",
    "converters = [rgb_to_yiq, rgb_to_yuv, rgb_to_i1i2i3, rgb_to_rgb_normalized]\n",
    "for f in converters:\n",
    "\timg = f(sliced)\n",
    "\t#plt.figure()\n",
    "\tprint(img)\n",
    "\t#plt.imshow(sliced_rgb_to_img(img))\n",
    "\t#plt.title(f.__name__)"
   ]
  },
  {
   "cell_type": "code",
   "execution_count": null,
   "metadata": {},
   "outputs": [],
   "source": []
  }
 ],
 "metadata": {
  "kernelspec": {
   "display_name": "Python 3",
   "language": "python",
   "name": "python3"
  },
  "language_info": {
   "codemirror_mode": {
    "name": "ipython",
    "version": 3
   },
   "file_extension": ".py",
   "mimetype": "text/x-python",
   "name": "python",
   "nbconvert_exporter": "python",
   "pygments_lexer": "ipython3",
   "version": "3.12.2"
  }
 },
 "nbformat": 4,
 "nbformat_minor": 2
}
